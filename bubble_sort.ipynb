{
  "nbformat": 4,
  "nbformat_minor": 0,
  "metadata": {
    "colab": {
      "provenance": [],
      "authorship_tag": "ABX9TyPY7G5yQRz+Sc0AUEmV/JIM",
      "include_colab_link": true
    },
    "kernelspec": {
      "name": "python3",
      "display_name": "Python 3"
    },
    "language_info": {
      "name": "python"
    }
  },
  "cells": [
    {
      "cell_type": "markdown",
      "metadata": {
        "id": "view-in-github",
        "colab_type": "text"
      },
      "source": [
        "<a href=\"https://colab.research.google.com/github/muddamjatin/DAA-Online/blob/main/bubble_sort.ipynb\" target=\"_parent\"><img src=\"https://colab.research.google.com/assets/colab-badge.svg\" alt=\"Open In Colab\"/></a>"
      ]
    },
    {
      "cell_type": "code",
      "execution_count": 3,
      "metadata": {
        "colab": {
          "base_uri": "https://localhost:8080/"
        },
        "id": "6pEtu4lEBfd8",
        "outputId": "851a9eac-20c4-4fe3-c595-99a462a0ed42"
      },
      "outputs": [
        {
          "output_type": "stream",
          "name": "stdout",
          "text": [
            "[15, 25, 35, 45, 55]\n"
          ]
        }
      ],
      "source": [
        "def bubble_sort(arr):\n",
        "\tk = len(arr)\n",
        "\tfor i in range(k):\n",
        "\t\tswapped = False\n",
        "\t\tfor j in range(0, k - i - 1):\n",
        "\t\t\tif arr[j] > arr[j + 1]:\n",
        "\t\t\t\tarr[j], arr[j + 1] = arr[j + 1], arr[j]\n",
        "\t\t\t\tswapped = True\n",
        "\t\tif not swapped:\n",
        "\t\t\tbreak\n",
        "\treturn arr\n",
        "\n",
        "x=bubble_sort([55,45,35,25,15])\n",
        "print(x)"
      ]
    }
  ]
}