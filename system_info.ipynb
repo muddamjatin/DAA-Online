{
  "nbformat": 4,
  "nbformat_minor": 0,
  "metadata": {
    "colab": {
      "provenance": [],
      "authorship_tag": "ABX9TyPiHoeaUMw2RDWP/u59X7kw",
      "include_colab_link": true
    },
    "kernelspec": {
      "name": "python3",
      "display_name": "Python 3"
    },
    "language_info": {
      "name": "python"
    }
  },
  "cells": [
    {
      "cell_type": "markdown",
      "metadata": {
        "id": "view-in-github",
        "colab_type": "text"
      },
      "source": [
        "<a href=\"https://colab.research.google.com/github/muddamjatin/DAA-Online/blob/main/system_info.ipynb\" target=\"_parent\"><img src=\"https://colab.research.google.com/assets/colab-badge.svg\" alt=\"Open In Colab\"/></a>"
      ]
    },
    {
      "cell_type": "code",
      "execution_count": 1,
      "metadata": {
        "colab": {
          "base_uri": "https://localhost:8080/"
        },
        "id": "rtNDrCNVEsZT",
        "outputId": "21f49696-b9b4-4a92-e004-7a4c11ea8154"
      },
      "outputs": [
        {
          "output_type": "stream",
          "name": "stdout",
          "text": [
            "Processor: x86_64\n",
            "RAM: 12.67 GB\n"
          ]
        }
      ],
      "source": [
        "import platform\n",
        "import psutil\n",
        "\n",
        "print(f\"Processor: {platform.processor()}\")\n",
        "print(f\"RAM: {round(psutil.virtual_memory().total / (1024**3), 2)} GB\")"
      ]
    }
  ]
}