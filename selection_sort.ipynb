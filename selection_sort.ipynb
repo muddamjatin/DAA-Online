{
  "nbformat": 4,
  "nbformat_minor": 0,
  "metadata": {
    "colab": {
      "provenance": [],
      "authorship_tag": "ABX9TyMb6XIuv4COQvcQKbxYlY4a",
      "include_colab_link": true
    },
    "kernelspec": {
      "name": "python3",
      "display_name": "Python 3"
    },
    "language_info": {
      "name": "python"
    }
  },
  "cells": [
    {
      "cell_type": "markdown",
      "metadata": {
        "id": "view-in-github",
        "colab_type": "text"
      },
      "source": [
        "<a href=\"https://colab.research.google.com/github/muddamjatin/DAA-Online/blob/main/selection_sort.ipynb\" target=\"_parent\"><img src=\"https://colab.research.google.com/assets/colab-badge.svg\" alt=\"Open In Colab\"/></a>"
      ]
    },
    {
      "cell_type": "code",
      "source": [
        "def selection_sort(arr):\n",
        "    for i in range(len(arr)):\n",
        "        mini = i\n",
        "        for j in range(i + 1, len(arr)):\n",
        "            if arr[j] < arr[mini]:\n",
        "                mini = j\n",
        "        arr[i], arr[mini] = arr[mini], arr[i]\n",
        "    return arr\n",
        "\n",
        "x=selection_sort([55,45,35,25,15])\n",
        "print(x)"
      ],
      "metadata": {
        "colab": {
          "base_uri": "https://localhost:8080/"
        },
        "id": "LoQXVRPAAN9z",
        "outputId": "6bd99fbb-88c4-4669-898a-0960ed4b9e4d"
      },
      "execution_count": 3,
      "outputs": [
        {
          "output_type": "stream",
          "name": "stdout",
          "text": [
            "[15, 25, 35, 45, 55]\n"
          ]
        }
      ]
    },
    {
      "cell_type": "markdown",
      "source": [],
      "metadata": {
        "id": "KCzXxhXzATEH"
      }
    },
    {
      "cell_type": "markdown",
      "source": [],
      "metadata": {
        "id": "SJjW5lOZAbGY"
      }
    }
  ]
}